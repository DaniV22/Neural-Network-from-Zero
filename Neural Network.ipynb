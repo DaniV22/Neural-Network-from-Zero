{
 "cells": [
  {
   "cell_type": "markdown",
   "id": "bd8ccc71",
   "metadata": {},
   "source": [
    "# Neural Network\n",
    "\n",
    "In this Jupyter Notebook we provide two examples on how to use the Neural Network model for both tasks, classification and regression."
   ]
  },
  {
   "cell_type": "code",
   "execution_count": 1,
   "id": "1ecac9d3",
   "metadata": {},
   "outputs": [],
   "source": [
    "from layer import Layer\n",
    "import loss\n",
    "from model import Model\n",
    "from optimizer import OptimizerAdam\n",
    "from accuracy import Accuracy\n",
    "import activation_function as af\n",
    "import numpy as np\n",
    "from sklearn.model_selection import train_test_split\n",
    "import seaborn as sns"
   ]
  },
  {
   "cell_type": "markdown",
   "id": "16cb184b",
   "metadata": {},
   "source": [
    "### Classification\n",
    "\n",
    "We will use the well-known \"penguins\" data set, from Seaborn"
   ]
  },
  {
   "cell_type": "code",
   "execution_count": 9,
   "id": "5b9285e1",
   "metadata": {},
   "outputs": [
    {
     "data": {
      "text/html": [
       "<div>\n",
       "<style scoped>\n",
       "    .dataframe tbody tr th:only-of-type {\n",
       "        vertical-align: middle;\n",
       "    }\n",
       "\n",
       "    .dataframe tbody tr th {\n",
       "        vertical-align: top;\n",
       "    }\n",
       "\n",
       "    .dataframe thead th {\n",
       "        text-align: right;\n",
       "    }\n",
       "</style>\n",
       "<table border=\"1\" class=\"dataframe\">\n",
       "  <thead>\n",
       "    <tr style=\"text-align: right;\">\n",
       "      <th></th>\n",
       "      <th>species</th>\n",
       "      <th>island</th>\n",
       "      <th>bill_length_mm</th>\n",
       "      <th>bill_depth_mm</th>\n",
       "      <th>flipper_length_mm</th>\n",
       "      <th>body_mass_g</th>\n",
       "      <th>sex</th>\n",
       "    </tr>\n",
       "  </thead>\n",
       "  <tbody>\n",
       "    <tr>\n",
       "      <th>0</th>\n",
       "      <td>Adelie</td>\n",
       "      <td>Torgersen</td>\n",
       "      <td>39.1</td>\n",
       "      <td>18.7</td>\n",
       "      <td>181.0</td>\n",
       "      <td>3750.0</td>\n",
       "      <td>Male</td>\n",
       "    </tr>\n",
       "    <tr>\n",
       "      <th>1</th>\n",
       "      <td>Adelie</td>\n",
       "      <td>Torgersen</td>\n",
       "      <td>39.5</td>\n",
       "      <td>17.4</td>\n",
       "      <td>186.0</td>\n",
       "      <td>3800.0</td>\n",
       "      <td>Female</td>\n",
       "    </tr>\n",
       "    <tr>\n",
       "      <th>2</th>\n",
       "      <td>Adelie</td>\n",
       "      <td>Torgersen</td>\n",
       "      <td>40.3</td>\n",
       "      <td>18.0</td>\n",
       "      <td>195.0</td>\n",
       "      <td>3250.0</td>\n",
       "      <td>Female</td>\n",
       "    </tr>\n",
       "    <tr>\n",
       "      <th>3</th>\n",
       "      <td>Adelie</td>\n",
       "      <td>Torgersen</td>\n",
       "      <td>NaN</td>\n",
       "      <td>NaN</td>\n",
       "      <td>NaN</td>\n",
       "      <td>NaN</td>\n",
       "      <td>NaN</td>\n",
       "    </tr>\n",
       "    <tr>\n",
       "      <th>4</th>\n",
       "      <td>Adelie</td>\n",
       "      <td>Torgersen</td>\n",
       "      <td>36.7</td>\n",
       "      <td>19.3</td>\n",
       "      <td>193.0</td>\n",
       "      <td>3450.0</td>\n",
       "      <td>Female</td>\n",
       "    </tr>\n",
       "  </tbody>\n",
       "</table>\n",
       "</div>"
      ],
      "text/plain": [
       "  species     island  bill_length_mm  bill_depth_mm  flipper_length_mm  \\\n",
       "0  Adelie  Torgersen            39.1           18.7              181.0   \n",
       "1  Adelie  Torgersen            39.5           17.4              186.0   \n",
       "2  Adelie  Torgersen            40.3           18.0              195.0   \n",
       "3  Adelie  Torgersen             NaN            NaN                NaN   \n",
       "4  Adelie  Torgersen            36.7           19.3              193.0   \n",
       "\n",
       "   body_mass_g     sex  \n",
       "0       3750.0    Male  \n",
       "1       3800.0  Female  \n",
       "2       3250.0  Female  \n",
       "3          NaN     NaN  \n",
       "4       3450.0  Female  "
      ]
     },
     "execution_count": 9,
     "metadata": {},
     "output_type": "execute_result"
    }
   ],
   "source": [
    "df = sns.load_dataset('penguins')\n",
    "df.head()"
   ]
  },
  {
   "cell_type": "markdown",
   "id": "c53f2444",
   "metadata": {},
   "source": [
    "We separate the data into feature (input) and label (output/prediction). We need to convert the data into numpy arrays."
   ]
  },
  {
   "cell_type": "code",
   "execution_count": 10,
   "id": "16b691fb",
   "metadata": {},
   "outputs": [],
   "source": [
    "df.dropna(inplace=True)\n",
    "X = df.drop(['species', 'island', 'sex'], axis=1).to_numpy()\n",
    "y = df['species'].map({'Adelie': 0, 'Chinstrap':1, 'Gentoo':2}).to_numpy()"
   ]
  },
  {
   "cell_type": "code",
   "execution_count": 11,
   "id": "c0d1d2d8",
   "metadata": {},
   "outputs": [
    {
     "name": "stdout",
     "output_type": "stream",
     "text": [
      "X shape: (333, 4)\n",
      "y shape: (333,)\n"
     ]
    }
   ],
   "source": [
    "print(f'X shape: {np.shape(X)}')\n",
    "print(f'y shape: {np.shape(y)}')"
   ]
  },
  {
   "cell_type": "markdown",
   "id": "8850a4d2",
   "metadata": {},
   "source": [
    "It is important to known the shape of our input and output data, as it is necessary to create the Neural Network."
   ]
  },
  {
   "cell_type": "code",
   "execution_count": 12,
   "id": "b648cdef",
   "metadata": {},
   "outputs": [],
   "source": [
    "#Splitting data into train and test data\n",
    "X_train, X_test, y_train, y_test = train_test_split(X, y, test_size=0.25, shuffle=True)"
   ]
  },
  {
   "cell_type": "code",
   "execution_count": 19,
   "id": "dd8f206d",
   "metadata": {},
   "outputs": [],
   "source": [
    "#Initializing model\n",
    "model = Model()\n",
    "\n",
    "model.add_layer(Layer(4, 20))\n",
    "model.add_layer(af.ActivationReLU())\n",
    "model.add_layer(Layer(20,3))\n",
    "model.add_layer(af.ActivationSoftmaxLossCategoricalCrossentropy())"
   ]
  },
  {
   "cell_type": "markdown",
   "id": "8ec9a23a",
   "metadata": {},
   "source": [
    "We create a model with two layers of neurons and two activation functions. It is important to remark that the number of inputs of the first layer (4) must be the same number as the number of features of X. The same goes with the last layer: the number of outputs (3) must be the same as the number of labels (or classes) that we are trying to predict."
   ]
  },
  {
   "cell_type": "code",
   "execution_count": 20,
   "id": "2d0c7e42",
   "metadata": {},
   "outputs": [],
   "source": [
    "model.set(\n",
    "    loss_function=loss.LossCategoricalCrossEntropy(),\n",
    "    optimizer=OptimizerAdam(),\n",
    "    accuracy=Accuracy('classification'))"
   ]
  },
  {
   "cell_type": "code",
   "execution_count": 21,
   "id": "6c0f6d67",
   "metadata": {},
   "outputs": [
    {
     "name": "stdout",
     "output_type": "stream",
     "text": [
      "epoch: 0, acc: 0.434, loss : 16.118\n",
      "epoch: 100, acc: 0.265, loss : 2.027\n",
      "epoch: 200, acc: 0.747, loss : 1.477\n",
      "epoch: 300, acc: 0.743, loss : 1.237\n",
      "epoch: 400, acc: 0.743, loss : 1.05\n",
      "epoch: 500, acc: 0.751, loss : 0.896\n",
      "epoch: 600, acc: 0.775, loss : 0.765\n",
      "epoch: 700, acc: 0.823, loss : 0.652\n",
      "epoch: 800, acc: 0.867, loss : 0.554\n",
      "epoch: 900, acc: 0.88, loss : 0.469\n",
      "epoch: 1000, acc: 0.9, loss : 0.394\n",
      "epoch: 1100, acc: 0.92, loss : 0.329\n",
      "epoch: 1200, acc: 0.932, loss : 0.273\n",
      "epoch: 1300, acc: 0.936, loss : 0.225\n",
      "epoch: 1400, acc: 0.948, loss : 0.184\n",
      "epoch: 1500, acc: 0.952, loss : 0.15\n",
      "epoch: 1600, acc: 0.952, loss : 0.121\n",
      "epoch: 1700, acc: 0.96, loss : 0.097\n",
      "epoch: 1800, acc: 0.964, loss : 0.078\n",
      "epoch: 1900, acc: 0.964, loss : 0.062\n",
      "epoch: 2000, acc: 0.968, loss : 0.049\n"
     ]
    }
   ],
   "source": [
    "#Training process\n",
    "model.train(X_train, y_train, 2001)"
   ]
  },
  {
   "cell_type": "code",
   "execution_count": 23,
   "id": "1352f133",
   "metadata": {},
   "outputs": [
    {
     "name": "stdout",
     "output_type": "stream",
     "text": [
      "Validation acc: 0.976, loss : 0.189\n"
     ]
    }
   ],
   "source": [
    "#Validation\n",
    "model.validate(X_test, y_test)"
   ]
  },
  {
   "cell_type": "code",
   "execution_count": 25,
   "id": "cc34626f",
   "metadata": {},
   "outputs": [
    {
     "name": "stdout",
     "output_type": "stream",
     "text": [
      "[0]\n"
     ]
    }
   ],
   "source": [
    "#Prediction\n",
    "x = [39.0, 19, 180.0, 3751.3]\n",
    "pred = model.predict(np.array(x).reshape(1,4))\n",
    "print(pred)"
   ]
  },
  {
   "cell_type": "markdown",
   "id": "601c1d37",
   "metadata": {},
   "source": [
    "We predict the first class. In fact, the input is very similar to the first row of the dataset and it corresponds to the species \"Adelie\" (first class)"
   ]
  },
  {
   "cell_type": "markdown",
   "id": "a6001111",
   "metadata": {},
   "source": [
    "### Regression\n",
    "\n",
    "Now, we will train the model to reproduce the values given by a function"
   ]
  },
  {
   "cell_type": "code",
   "execution_count": 84,
   "id": "f21d39ff",
   "metadata": {},
   "outputs": [],
   "source": [
    "# Create dataset\n",
    "X = np.linspace(-1, 3, 500).reshape(500, 1)\n",
    "y = np.exp(-(X**2 - 2*X)**2)"
   ]
  },
  {
   "cell_type": "markdown",
   "id": "0b3fe101",
   "metadata": {},
   "source": [
    "Even when we have only a single input, it is important to reshape the data in a shape that can be used by the model. np.linspace returns the data with shape (N,) but we need the data  as (N,1). "
   ]
  },
  {
   "cell_type": "code",
   "execution_count": 85,
   "id": "befdac21",
   "metadata": {},
   "outputs": [],
   "source": [
    "X_train, X_test, y_train, y_test = train_test_split(X, y, test_size=0.25, shuffle=True)"
   ]
  },
  {
   "cell_type": "code",
   "execution_count": 86,
   "id": "2792aacc",
   "metadata": {},
   "outputs": [],
   "source": [
    "#Creating model\n",
    "model = Model()\n",
    "\n",
    "model.add_layer(Layer(1, 64))\n",
    "model.add_layer(af.ActivationReLU())\n",
    "model.add_layer(Layer(64, 64))\n",
    "model.add_layer(af.ActivationReLU())\n",
    "model.add_layer(Layer(64, 64))\n",
    "model.add_layer(af.ActivationReLU())\n",
    "model.add_layer(Layer(64, 1))\n",
    "model.add_layer(af.ActivationLinear())"
   ]
  },
  {
   "cell_type": "markdown",
   "id": "59d52060",
   "metadata": {},
   "source": [
    "Now, we use a bigger Neural Network. Notice that we need to use an activation function compatible with a regression task"
   ]
  },
  {
   "cell_type": "code",
   "execution_count": 87,
   "id": "50c683f7",
   "metadata": {},
   "outputs": [],
   "source": [
    "#We need to set a loss function compatible with regression\n",
    "model.set(\n",
    "    loss_function=loss.LossMeanSquaredError(),\n",
    "    optimizer=OptimizerAdam(learning_rate = 0.01, decay = 0.01),\n",
    "    accuracy=Accuracy('regression'))"
   ]
  },
  {
   "cell_type": "code",
   "execution_count": 77,
   "id": "78b4a22c",
   "metadata": {},
   "outputs": [
    {
     "name": "stderr",
     "output_type": "stream",
     "text": [
      "MovieWriter ffmpeg unavailable; using Pillow instead.\n"
     ]
    },
    {
     "data": {
      "image/png": "[encoded data removed]",
      "text/plain": [
       "<Figure size 432x288 with 1 Axes>"
      ]
     },
     "metadata": {
      "needs_background": "light"
     },
     "output_type": "display_data"
    }
   ],
   "source": [
    "import matplotlib.pyplot as plt\n",
    "model.training_animation(X, y, 1000, 50)"
   ]
  },
  {
   "cell_type": "code",
   "execution_count": 88,
   "id": "67d828e9",
   "metadata": {},
   "outputs": [
    {
     "name": "stdout",
     "output_type": "stream",
     "text": [
      "epoch: 0, acc: 0.0, loss : 0.0\n",
      "epoch: 100, acc: 0.107, loss : 0.0\n",
      "epoch: 200, acc: 0.077, loss : 0.0\n",
      "epoch: 300, acc: 0.016, loss : 0.0\n",
      "epoch: 400, acc: 0.44, loss : 0.0\n",
      "epoch: 500, acc: 0.44, loss : 0.0\n",
      "epoch: 600, acc: 0.035, loss : 0.0\n",
      "epoch: 700, acc: 0.589, loss : 0.0\n",
      "epoch: 800, acc: 0.6, loss : 0.0\n",
      "epoch: 900, acc: 0.661, loss : 0.0\n",
      "epoch: 1000, acc: 0.16, loss : 0.0\n",
      "epoch: 1100, acc: 0.584, loss : 0.0\n",
      "epoch: 1200, acc: 0.677, loss : 0.0\n",
      "epoch: 1300, acc: 0.712, loss : 0.0\n",
      "epoch: 1400, acc: 0.443, loss : 0.0\n",
      "epoch: 1500, acc: 0.704, loss : 0.0\n",
      "epoch: 1600, acc: 0.101, loss : 0.0\n",
      "epoch: 1700, acc: 0.269, loss : 0.0\n",
      "epoch: 1800, acc: 0.675, loss : 0.0\n",
      "epoch: 1900, acc: 0.16, loss : 0.0\n",
      "epoch: 2000, acc: 0.573, loss : 0.0\n",
      "epoch: 2100, acc: 0.659, loss : 0.0\n",
      "epoch: 2200, acc: 0.123, loss : 0.0\n",
      "epoch: 2300, acc: 0.715, loss : 0.0\n",
      "epoch: 2400, acc: 0.645, loss : 0.0\n",
      "epoch: 2500, acc: 0.685, loss : 0.0\n",
      "epoch: 2600, acc: 0.168, loss : 0.0\n",
      "epoch: 2700, acc: 0.328, loss : 0.0\n",
      "epoch: 2800, acc: 0.565, loss : 0.0\n",
      "epoch: 2900, acc: 0.027, loss : 0.0\n",
      "epoch: 3000, acc: 0.725, loss : 0.0\n",
      "epoch: 3100, acc: 0.664, loss : 0.0\n",
      "epoch: 3200, acc: 0.507, loss : 0.0\n",
      "epoch: 3300, acc: 0.739, loss : 0.0\n",
      "epoch: 3400, acc: 0.157, loss : 0.0\n",
      "epoch: 3500, acc: 0.763, loss : 0.0\n",
      "epoch: 3600, acc: 0.301, loss : 0.0\n",
      "epoch: 3700, acc: 0.2, loss : 0.0\n",
      "epoch: 3800, acc: 0.269, loss : 0.0\n",
      "epoch: 3900, acc: 0.501, loss : 0.0\n",
      "epoch: 4000, acc: 0.547, loss : 0.0\n",
      "epoch: 4100, acc: 0.728, loss : 0.0\n",
      "epoch: 4200, acc: 0.496, loss : 0.0\n",
      "epoch: 4300, acc: 0.195, loss : 0.0\n",
      "epoch: 4400, acc: 0.56, loss : 0.0\n",
      "epoch: 4500, acc: 0.603, loss : 0.0\n",
      "epoch: 4600, acc: 0.749, loss : 0.0\n",
      "epoch: 4700, acc: 0.733, loss : 0.0\n",
      "epoch: 4800, acc: 0.8, loss : 0.0\n",
      "epoch: 4900, acc: 0.0, loss : 0.0\n",
      "epoch: 5000, acc: 0.832, loss : 0.0\n"
     ]
    }
   ],
   "source": [
    "model.train(X_train, y_train, 5001)"
   ]
  },
  {
   "cell_type": "code",
   "execution_count": 89,
   "id": "2bec27d9",
   "metadata": {},
   "outputs": [
    {
     "name": "stdout",
     "output_type": "stream",
     "text": [
      "Validation acc: 0.76, loss : 0.0\n"
     ]
    }
   ],
   "source": [
    "model.validate(X_test, y_test)"
   ]
  },
  {
   "cell_type": "code",
   "execution_count": null,
   "id": "f48805e8",
   "metadata": {},
   "outputs": [],
   "source": []
  }
 ],
 "metadata": {
  "kernelspec": {
   "display_name": "Python 3",
   "language": "python",
   "name": "python3"
  },
  "language_info": {
   "codemirror_mode": {
    "name": "ipython",
    "version": 3
   },
   "file_extension": ".py",
   "mimetype": "text/x-python",
   "name": "python",
   "nbconvert_exporter": "python",
   "pygments_lexer": "ipython3",
   "version": "3.8.8"
  }
 },
 "nbformat": 4,
 "nbformat_minor": 5
}
